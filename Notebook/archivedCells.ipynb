{
 "cells": [
  {
   "cell_type": "code",
   "execution_count": null,
   "id": "14ca28dd",
   "metadata": {},
   "outputs": [],
   "source": [
    "### Bad query term. for latest use f\"{species_name}[Organism] AND (PTGS1[Gene] OR cyclooxygenase-1[Gene Name])\"\n",
    "\n",
    "# Set your email (required by NCBI)\n",
    "Entrez.email = \"gunanka.is22@bmsce.ac.in\"\n",
    "\n",
    "def fetch_cox1_sequence(species_name):\n",
    "    \"\"\"Fetches the COX1 gene sequence for a given species from NCBI.\"\"\"\n",
    "    try:\n",
    "        # Search for COX1 gene for the given species\n",
    "        search_term = f\"{species_name} COX1\"\n",
    "        handle = Entrez.esearch(db=\"nucleotide\", term=search_term, retmax=20)\n",
    "        record = Entrez.read(handle)\n",
    "        handle.close()\n",
    "\n",
    "        if not record[\"IdList\"]:\n",
    "            print(f\"No COX1 sequence found for {species_name}\")\n",
    "            return None\n",
    "\n",
    "        # Fetch the sequence record\n",
    "        seq_id = record[\"IdList\"][0]\n",
    "        handle = Entrez.efetch(db=\"nucleotide\", id=seq_id, rettype=\"fasta\", retmode=\"text\")\n",
    "        seq_record = SeqIO.read(handle, \"fasta\")\n",
    "        handle.close()\n",
    "\n",
    "        return seq_record\n",
    "    except Exception as e:\n",
    "        print(f\"Error fetching COX1 sequence for {species_name}: {e}\")\n",
    "        return None\n",
    "    \n",
    "\n",
    "print(fetch_cox1_sequence(\"Homo sapiens\"))"
   ]
  }
 ],
 "metadata": {
  "kernelspec": {
   "display_name": ".venv",
   "language": "python",
   "name": "python3"
  },
  "language_info": {
   "name": "python",
   "version": "3.13.2"
  }
 },
 "nbformat": 4,
 "nbformat_minor": 5
}
