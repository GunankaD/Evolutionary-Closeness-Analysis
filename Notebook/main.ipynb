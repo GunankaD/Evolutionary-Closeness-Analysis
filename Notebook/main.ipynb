{
 "cells": [
  {
   "cell_type": "code",
   "execution_count": 49,
   "id": "af41daad",
   "metadata": {},
   "outputs": [],
   "source": [
    "from Bio import Entrez, SeqIO, AlignIO\n",
    "import os"
   ]
  },
  {
   "cell_type": "code",
   "execution_count": 54,
   "id": "e88b9062",
   "metadata": {},
   "outputs": [],
   "source": [
    "# Set your email (made mandatory by NCBI to avoid spams)\n",
    "Entrez.email = \"gunanka.is22@bmsce.ac.in\""
   ]
  },
  {
   "cell_type": "markdown",
   "id": "77463240",
   "metadata": {},
   "source": [
    "##### fetch_cox1_sequence(species_name)"
   ]
  },
  {
   "cell_type": "code",
   "execution_count": 55,
   "id": "b65d875a",
   "metadata": {},
   "outputs": [],
   "source": [
    "def fetch_cox1_sequence(species_name):\n",
    "    \"\"\"Fetches the COX1/PTGS1 gene sequence for a given species from NCBI.\"\"\"\n",
    "\n",
    "    print(f\"Fetching COX1 sequence for '{species_name}' species\")\n",
    "    try:\n",
    "        # Querying using 3 different terms to make sure we hit\n",
    "        search_terms = [\n",
    "            f\"{species_name}[Organism] AND (PTGS1[Gene] OR cyclooxygenase-1[Gene Name])\",\n",
    "            f\"{species_name}[Organism] AND (COX1[Gene] OR COX-1[Gene] OR PTGS1[Gene])\",\n",
    "            f\"{species_name}[Organism] AND cyclooxygenase 1\"\n",
    "        ]\n",
    "        \n",
    "        # try all terms\n",
    "        for term in search_terms:\n",
    "            print(f\"Trying search term: {term}\")\n",
    "            handle = Entrez.esearch(db=\"nucleotide\", term=term, retmax=5)\n",
    "            record = Entrez.read(handle)\n",
    "            handle.close()\n",
    "            \n",
    "            # if record exists, get its id and sequence\n",
    "            if record[\"IdList\"]:\n",
    "                # Fetch the sequence record\n",
    "                seq_id = record[\"IdList\"][0]\n",
    "                print(f\"SUCCESS : COX1 sequence for {species_name} found. Found ID : {seq_id}\")\n",
    "\n",
    "                handle = Entrez.efetch(db=\"nucleotide\", id=seq_id, rettype=\"fasta\", retmode=\"text\")\n",
    "                fasta_text = handle.read()\n",
    "                handle.close()\n",
    "                \n",
    "                # print(f\"Retrieved sequence with header:\\n{fasta_text.split('\\\\n')[0]}\")\n",
    "                \n",
    "                # Reopen handle to read with SeqIO\n",
    "                handle = Entrez.efetch(db=\"nucleotide\", id=seq_id, rettype=\"fasta\", retmode=\"text\")\n",
    "                seq_record = SeqIO.read(handle, \"fasta\")\n",
    "                handle.close()\n",
    "\n",
    "                print(f\"Sequence length: {len(seq_record.seq)} bp\\n\")\n",
    "\n",
    "                return seq_record\n",
    "        \n",
    "        # None of the terms gave any records\n",
    "        print(f\"No COX1/PTGS1 sequence found for {species_name}\")\n",
    "        return None\n",
    "    \n",
    "    except Exception as e:\n",
    "        print(f\"Error fetching sequence: {e}\")\n",
    "        return None"
   ]
  },
  {
   "cell_type": "code",
   "execution_count": null,
   "id": "c45eea78",
   "metadata": {},
   "outputs": [],
   "source": [
    "# Testing fetch_cox1_sequence() ...\n",
    "\n",
    "print(\"Testing fetch_cox1_sequence()...\\n\")\n",
    "\n",
    "# Human beings\n",
    "species_name = \"Homo sapiens\" \n",
    "fetch_cox1_sequence(species_name)\n",
    "\n",
    "# Chimpanzees\n",
    "species_name = \"Pan troglodytes\" \n",
    "fetch_cox1_sequence(species_name)\n",
    "\n",
    "# Gold fish\n",
    "species_name = \"Carassius auratus\" \n",
    "fetch_cox1_sequence(species_name)\n",
    "\n",
    "# True tuna fish\n",
    "species_name = \"Thunnus\" \n",
    "fetch_cox1_sequence(species_name)\n",
    "\n",
    "# Yellow fin tuna fish\n",
    "species_name = \"Thunnus albacares\" \n",
    "fetch_cox1_sequence(species_name)\n",
    "\n",
    "# Dinosaur ant\n",
    "species_name = \"Nothomyrmecia macrops\" \n",
    "fetch_cox1_sequence(species_name)\n",
    "\n",
    "# Odorous house ant\n",
    "species_name = \"Tapinoma sessile\" \n",
    "fetch_cox1_sequence(species_name)\n",
    "\n",
    "# Golden eagle\n",
    "species_name = \"Aquila chrysaetos\" \n",
    "fetch_cox1_sequence(species_name)\n",
    "\n",
    "# Monarch butterfly\n",
    "species_name = \"Danaus plexippus\" \n",
    "fetch_cox1_sequence(species_name)\n",
    "\n",
    "# Sacred Scarab (dung beetle)\n",
    "species_name = \"Scarabaeus sacer\" \n",
    "fetch_cox1_sequence(species_name)\n",
    "\n",
    "# Blue Gourami\n",
    "species_name = \"Trichopodus trichopterus\" \n",
    "fetch_cox1_sequence(species_name)\n",
    "\n",
    "# Silver Arowana\n",
    "species_name = \"Osteoglossum bicirrhosum\" \n",
    "fetch_cox1_sequence(species_name)\n",
    "\n",
    "# Budgerigar\n",
    "species_name = \"Melopsittacus undulatus\" \n",
    "fetch_cox1_sequence(species_name)\n",
    "\n",
    "print(\"Testing completed...\")"
   ]
  },
  {
   "cell_type": "markdown",
   "id": "ca7b32ef",
   "metadata": {},
   "source": [
    "##### save_sequences_to_fasta(seq1, species_name1, seq2, species_name2, file_path)"
   ]
  },
  {
   "cell_type": "code",
   "execution_count": 96,
   "id": "11d3aefb",
   "metadata": {},
   "outputs": [],
   "source": [
    "from Bio.Seq import Seq\n",
    "from Bio.SeqRecord import SeqRecord\n",
    "\n",
    "def save_sequences_to_fasta(seq1, species_name1, seq2, species_name2, file_path):\n",
    "    \"\"\"Saves 2 sequences onto a fasta file in the given file location. Used for MUSCLE\"\"\"\n",
    "\n",
    "    # Create SeqRecord objects\n",
    "    record1 = SeqRecord(seq1.seq, id=\"seq1\", description=f\"{species_name1} COX-1 sequence\")\n",
    "    record2 = SeqRecord(seq2.seq, id=\"seq2\", description=f\"{species_name2} COX-1 sequence\")\n",
    "    \n",
    "    # Write to a FASTA file\n",
    "    with open(file_path, \"w\") as output_handle:\n",
    "        SeqIO.write([record1, record2], output_handle, \"fasta\")"
   ]
  },
  {
   "cell_type": "code",
   "execution_count": 110,
   "id": "b81d501f",
   "metadata": {},
   "outputs": [
    {
     "name": "stdout",
     "output_type": "stream",
     "text": [
      "Testing save_sequences_to_fasta()...\n",
      "\n",
      "Fetching COX1 sequence for 'Homo sapiens' species\n",
      "Trying search term: Homo sapiens[Organism] AND (PTGS1[Gene] OR cyclooxygenase-1[Gene Name])\n",
      "SUCCESS : COX1 sequence for Homo sapiens found. Found ID : 1676324839\n",
      "Sequence length: 4880 bp\n",
      "\n",
      "Fetching COX1 sequence for 'Pan troglodytes' species\n",
      "Trying search term: Pan troglodytes[Organism] AND (PTGS1[Gene] OR cyclooxygenase-1[Gene Name])\n",
      "SUCCESS : COX1 sequence for Pan troglodytes found. Found ID : 2697699565\n",
      "Sequence length: 5032 bp\n",
      "\n",
      "Testing completed...\n"
     ]
    }
   ],
   "source": [
    "# Testing save_sequences_to_fasta() ...\n",
    "\n",
    "print(\"Testing save_sequences_to_fasta()...\\n\")\n",
    "\n",
    "# Human beings\n",
    "species_name1 = \"Homo sapiens\" \n",
    "seq1 = fetch_cox1_sequence(species_name1)\n",
    "\n",
    "# Chimpanzees\n",
    "species_name2 = \"Pan troglodytes\" \n",
    "seq2 = fetch_cox1_sequence(species_name2)\n",
    "\n",
    "file_path = r\"../fasta_files/two_cox1_sequences.fasta\"\n",
    "\n",
    "save_sequences_to_fasta(seq1, species_name1, seq2, species_name2, file_path)\n",
    "\n",
    "print(\"Testing completed...\")"
   ]
  },
  {
   "cell_type": "markdown",
   "id": "015243d4",
   "metadata": {},
   "source": [
    "##### align_sequences_muscle(input_fasta, output_fasta)"
   ]
  },
  {
   "cell_type": "code",
   "execution_count": 98,
   "id": "26ff881a",
   "metadata": {},
   "outputs": [],
   "source": [
    "import subprocess # to use MUSCLE (multiple sequence alignment tool)\n",
    "\n",
    "def align_sequences_muscle(input_fasta, output_fasta):\n",
    "    \"\"\"Aligns sequences using MUSCLE and saves the output to a FASTA file.\"\"\"\n",
    "    \n",
    "    muscle_path = r\"../tools/muscle-win64.v5.3.exe\"\n",
    "\n",
    "    # Ensure the output directory exists\n",
    "    output_dir = os.path.dirname(output_fasta)\n",
    "    if not os.path.exists(output_dir):\n",
    "        os.makedirs(output_dir)\n",
    "\n",
    "     # For MUSCLE v5.3, the command line syntax has changed\n",
    "    muscle_cmd = [\n",
    "        muscle_path, \n",
    "        \"-align\", input_fasta, \n",
    "        \"-output\", output_fasta\n",
    "    ]\n",
    "\n",
    "    # Full command that is being executed\n",
    "    print(\"Running command:\", \" \".join(muscle_cmd))  \n",
    "\n",
    "    # print(\"Starting Subprocess\")\n",
    "    result = subprocess.run(muscle_cmd, capture_output=True, text=True)\n",
    "\n",
    "    # DEBUG : Logs subprocess\n",
    "    # print(f\"Result stdout: {result.stdout}\")\n",
    "    print(f\"\\nSTATUS: {result.stderr}\")\n",
    "\n",
    "    if result.returncode != 0:\n",
    "        print(f\"Error: MUSCLE failed with exit code {result.returncode}\")"
   ]
  },
  {
   "cell_type": "code",
   "execution_count": 111,
   "id": "95959d5c",
   "metadata": {},
   "outputs": [
    {
     "name": "stdout",
     "output_type": "stream",
     "text": [
      "Testing align_sequences_muscle()...\n",
      "\n",
      "Running command: ../tools/muscle-win64.v5.3.exe -align ../fasta_files/two_cox1_sequences.fasta -output ../fasta_files/aligned_cox1_sequences.fasta\n",
      "\n",
      "STATUS: \n",
      "muscle 5.3.win64 [d9725ac]  16.4Gb RAM, 16 cores\n",
      "Built Nov 10 2024 22:59:05\n",
      "(C) Copyright 2004-2021 Robert C. Edgar.\n",
      "https://drive5.com\n",
      "\n",
      "[align ../fasta_files/two_cox1_sequences.fasta]\n",
      "Input: 2 seqs, avg length 4956, max 5032, min 4880\n",
      "\n",
      "00:00 1.2Mb    50.0% Derep 1 uniques, 0 dupes\n",
      "00:00 1.2Mb   100.0% Derep 2 uniques, 0 dupes\n",
      "\n",
      "00:00 1.2Mb  CPU has 16 cores, running 16 threads\n",
      "00:00 1.6Mb   100.0% Calc posteriors\n",
      "\n",
      "00:03 1.7Mb   100.0% UPGMA5         \n",
      "\n",
      "\n",
      "Testing completed...\n"
     ]
    }
   ],
   "source": [
    "# Testing align_sequences_muscle() ...\n",
    "\n",
    "print(\"Testing align_sequences_muscle()...\\n\")\n",
    "\n",
    "input_fasta = r\"../fasta_files/two_cox1_sequences.fasta\"\n",
    "output_fasta = r\"../fasta_files/aligned_cox1_sequences.fasta\"\n",
    "\n",
    "align_sequences_muscle(input_fasta, output_fasta)\n",
    "\n",
    "print(\"Testing completed...\")"
   ]
  },
  {
   "cell_type": "markdown",
   "id": "5c89e78a",
   "metadata": {},
   "source": [
    "##### compute_similarity(aligned_fasta)"
   ]
  },
  {
   "cell_type": "code",
   "execution_count": 100,
   "id": "b188cd5e",
   "metadata": {},
   "outputs": [],
   "source": [
    "def compute_similarity(aligned_fasta):\n",
    "    \"\"\"Computes the similarity between two aligned sequences in a FASTA file.\"\"\"\n",
    "    \n",
    "    # Read the aligned sequences from the FASTA file\n",
    "    aligned_sequences = list(SeqIO.parse(aligned_fasta, \"fasta\"))\n",
    "    \n",
    "    # Check if there are exactly two sequences\n",
    "    if len(aligned_sequences) != 2:\n",
    "        raise ValueError(\"The FASTA file must contain exactly two sequences.\")\n",
    "    \n",
    "    # Get the sequences\n",
    "    seq1 = str(aligned_sequences[0].seq)\n",
    "    seq2 = str(aligned_sequences[1].seq)\n",
    "    \n",
    "    # Initialize counters for matches and total length\n",
    "    matches = 0\n",
    "    total_bases = 0\n",
    "    \n",
    "    # Compare the sequences base-by-base\n",
    "    for base1, base2 in zip(seq1, seq2):\n",
    "        if base1 != '-' and base2 != '-':  # Ignore gaps ('-')\n",
    "            total_bases += 1\n",
    "            if base1 == base2:  # Count matches\n",
    "                matches += 1\n",
    "    \n",
    "    # Calculate similarity percentage\n",
    "    if total_bases == 0:\n",
    "        return 0  # To avoid division by zero if there are no valid bases (i.e., both are gaps)\n",
    "    \n",
    "    similarity_percentage = (matches / total_bases) * 100\n",
    "    return similarity_percentage"
   ]
  },
  {
   "cell_type": "code",
   "execution_count": 112,
   "id": "6effa2e2",
   "metadata": {},
   "outputs": [
    {
     "name": "stdout",
     "output_type": "stream",
     "text": [
      "Testing compute_similarity()...\n",
      "\n",
      "Similarity Score: 99.02%\n",
      "testing completed...\n"
     ]
    }
   ],
   "source": [
    "# Testing compute_similarity()...\n",
    "print(\"Testing compute_similarity()...\\n\")\n",
    "\n",
    "aligned_fasta = r\"../fasta_files/aligned_cox1_sequences.fasta\"\n",
    "similarity = compute_similarity(aligned_fasta)\n",
    "\n",
    "print(f\"Similarity Score: {similarity:.2f}%\")\n",
    "print(\"testing completed...\")"
   ]
  },
  {
   "cell_type": "code",
   "execution_count": null,
   "id": "a3e98f20",
   "metadata": {},
   "outputs": [],
   "source": []
  }
 ],
 "metadata": {
  "kernelspec": {
   "display_name": ".venv",
   "language": "python",
   "name": "python3"
  },
  "language_info": {
   "codemirror_mode": {
    "name": "ipython",
    "version": 3
   },
   "file_extension": ".py",
   "mimetype": "text/x-python",
   "name": "python",
   "nbconvert_exporter": "python",
   "pygments_lexer": "ipython3",
   "version": "3.13.2"
  }
 },
 "nbformat": 4,
 "nbformat_minor": 5
}
