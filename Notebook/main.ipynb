{
 "cells": [
  {
   "cell_type": "code",
   "execution_count": null,
   "id": "af41daad",
   "metadata": {},
   "outputs": [],
   "source": [
    "from Bio import Entrez, SeqIO, AlignIO\n",
    "import subprocess # MUSCLE wrapper\n",
    "import os"
   ]
  },
  {
   "cell_type": "code",
   "execution_count": 11,
   "id": "b65d875a",
   "metadata": {},
   "outputs": [],
   "source": [
    "# Set your email (required by NCBI)\n",
    "Entrez.email = \"gunanka.is22@bmsce.ac.in\"\n",
    "\n",
    "def fetch_cox1_sequence(species_name):\n",
    "    \"\"\"Fetches the COX1/PTGS1 gene sequence for a given species from NCBI.\"\"\"\n",
    "    try:\n",
    "        # Try different search terms for better results\n",
    "        search_terms = [\n",
    "            f\"{species_name}[Organism] AND (PTGS1[Gene] OR cyclooxygenase-1[Gene Name])\",\n",
    "            f\"{species_name}[Organism] AND (COX1[Gene] OR COX-1[Gene] OR PTGS1[Gene])\",\n",
    "            f\"{species_name}[Organism] AND cyclooxygenase 1\"\n",
    "        ]\n",
    "        \n",
    "        for term in search_terms:\n",
    "            print(f\"Trying search term: {term}\")\n",
    "            handle = Entrez.esearch(db=\"nucleotide\", term=term, retmax=5)\n",
    "            record = Entrez.read(handle)\n",
    "            handle.close()\n",
    "            \n",
    "            if record[\"IdList\"]:\n",
    "                # Fetch the sequence record\n",
    "                seq_id = record[\"IdList\"][0]\n",
    "                print(f\"Found ID: {seq_id}\")\n",
    "                handle = Entrez.efetch(db=\"nucleotide\", id=seq_id, rettype=\"fasta\", retmode=\"text\")\n",
    "                fasta_text = handle.read()\n",
    "                handle.close()\n",
    "                \n",
    "                # print(f\"Retrieved sequence with header:\\n{fasta_text.split('\\\\n')[0]}\")\n",
    "                \n",
    "                # Reopen handle to read with SeqIO\n",
    "                handle = Entrez.efetch(db=\"nucleotide\", id=seq_id, rettype=\"fasta\", retmode=\"text\")\n",
    "                seq_record = SeqIO.read(handle, \"fasta\")\n",
    "                handle.close()\n",
    "\n",
    "                print(f\"Sequence length: {len(seq_record.seq)} bp\")\n",
    "\n",
    "                return seq_record\n",
    "        \n",
    "        print(f\"No COX1/PTGS1 sequence found for {species_name}\")\n",
    "        return None\n",
    "    \n",
    "    except Exception as e:\n",
    "        print(f\"Error fetching sequence: {e}\")\n",
    "        return None"
   ]
  },
  {
   "cell_type": "code",
   "execution_count": null,
   "id": "b0de8b36",
   "metadata": {},
   "outputs": [
    {
     "name": "stdout",
     "output_type": "stream",
     "text": [
      "Trying search term: Homo sapiens[Organism] AND (PTGS1[Gene] OR cyclooxygenase-1[Gene Name])\n",
      "Found ID: 1676324839\n",
      "Sequence length: 4880 bp\n",
      "Trying search term: Pan troglodytes[Organism] AND (PTGS1[Gene] OR cyclooxygenase-1[Gene Name])\n",
      "Found ID: 2697699565\n",
      "Sequence length: 5032 bp\n"
     ]
    },
    {
     "data": {
      "text/plain": [
       "SeqRecord(seq=Seq('TGGAGCTCCGGGCAGTGTGCGAGGCGCACGCACAGGAGACTGCACTCTGCGTCC...CCA'), id='XM_016961598.3', name='XM_016961598.3', description='XM_016961598.3 PREDICTED: Pan troglodytes prostaglandin-endoperoxide synthase 1 (PTGS1), mRNA', dbxrefs=[])"
      ]
     },
     "execution_count": 13,
     "metadata": {},
     "output_type": "execute_result"
    }
   ],
   "source": [
    "### testing function fetch_cox1_sequence()\n",
    "\n",
    "species_name = \"Homo sapiens\" # human beings\n",
    "fetch_cox1_sequence(species_name)\n",
    "\n",
    "species_name = \"Pan troglodytes\" # chimpanzees\n",
    "fetch_cox1_sequence(species_name)\n"
   ]
  },
  {
   "cell_type": "code",
   "execution_count": null,
   "id": "11d3aefb",
   "metadata": {},
   "outputs": [],
   "source": []
  }
 ],
 "metadata": {
  "kernelspec": {
   "display_name": ".venv",
   "language": "python",
   "name": "python3"
  },
  "language_info": {
   "codemirror_mode": {
    "name": "ipython",
    "version": 3
   },
   "file_extension": ".py",
   "mimetype": "text/x-python",
   "name": "python",
   "nbconvert_exporter": "python",
   "pygments_lexer": "ipython3",
   "version": "3.13.2"
  }
 },
 "nbformat": 4,
 "nbformat_minor": 5
}
