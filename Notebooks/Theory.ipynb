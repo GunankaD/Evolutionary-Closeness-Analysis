{
 "cells": [
  {
   "cell_type": "markdown",
   "metadata": {},
   "source": [
    "1) Entrez: Fetch DNA sequences from NCBI.\n",
    "- \"Entrez\" (pronounced \"on-tray\") is French for \"enter\", and in the context of NCBI, it stands for:\n",
    "\n",
    "- Entrez Programming Utilities (E-utilities)\n",
    "\n",
    "- It's basically an API provided by NCBI that lets you programmatically search and retrieve biological data (like genes, sequences, proteins, taxonomy, etc.) from their databases.\n",
    "\n",
    "- So in short:\n",
    "    Entrez = Gateway to NCBI databases via code.\n",
    "\n",
    "- Biopython's Entrez module makes it easy to access this API without handling raw HTTP requests\n",
    "\n",
    "\n",
    "\n",
    "2) SeqIO: Read and parse sequences\n",
    "\n",
    "3) pairwise2: Align sequences and compute similarity scores\n",
    "\n",
    "4) Phylo: Build and visualize phylogenetic trees (later on, im not sure if we will be doing this)"
   ]
  },
  {
   "cell_type": "code",
   "execution_count": 3,
   "metadata": {},
   "outputs": [],
   "source": [
    "from Bio import Entrez, SeqIO, Phylo\n",
    "from Bio.Align import PairwiseAligner"
   ]
  },
  {
   "cell_type": "markdown",
   "metadata": {},
   "source": [
    "\n",
    "### [1]\n",
    "Each \"result\" from NCBI’s nucleotide database is basically a sequence record submitted by researchers or institutions. Think of it like a mini research entry.\n",
    "\n",
    "A single result typically includes:\n",
    "1. Metadata:\n",
    "- Accession ID (unique code)\n",
    "-  Title (e.g., “Homo sapiens mitochondrial DNA, complete genome”)\n",
    "-  Organism name\n",
    "-  Gene or region info\n",
    "- Source lab or publication\n",
    "\n",
    "2. The nucleotide sequence: \n",
    "-  Could be a whole genome, mitochondrial DNA, a gene, or even a small region.\n",
    "\n",
    "3.  Optional annotations:\n",
    "- Features (e.g., exons, CDS, introns)\n",
    "- References or citations\n",
    "- Length, type (DNA/RNA)\n",
    "- molecule info\n",
    "\n",
    "So yeah, it’s like a mini report for a specific genetic sequence, contributed to NCBI's database. Different sources can submit overlapping or unique data for the same species."
   ]
  },
  {
   "cell_type": "code",
   "execution_count": null,
   "metadata": {},
   "outputs": [
    {
     "name": "stdout",
     "output_type": "stream",
     "text": [
      "Keys : ['Count', 'RetMax', 'RetStart', 'IdList', 'TranslationSet', 'TranslationStack', 'QueryTranslation']\n",
      "\n",
      "dict_items([('Count', '210630'), ('RetMax', '1'), ('RetStart', '0'), ('IdList', ['2938283260']), ('TranslationSet', [{'From': 'Homo sapiens[Organism]', 'To': '\"Homo sapiens\"[Organism]'}]), ('TranslationStack', [{'Term': '\"Homo sapiens\"[Organism]', 'Field': 'Organism', 'Count': '28920006', 'Explode': 'Y'}, {'Term': 'mitochondrion[Filter]', 'Field': 'Filter', 'Count': '7845076', 'Explode': 'N'}, 'AND']), ('QueryTranslation', '\"Homo sapiens\"[Organism] AND mitochondrion[Filter]')])\n"
     ]
    }
   ],
   "source": [
    "# Required by NCBI to prevent spam\n",
    "Entrez.email = \"gunanka.is22@bmsce.ac.in\"\n",
    "\n",
    "# species name has to be a perfect scientific name\n",
    "def fetch_sequence(species_name):\n",
    "    \"\"\"Fetches the DNA sequence of a given species from NCBI.\"\"\"\n",
    "    try:\n",
    "        # [1]\n",
    "        # Search for the species in NCBI nucleotide database\n",
    "\n",
    "        # handle is like a file pointer or a temporary connection to the data you requested from NCBI.\n",
    "        # It doesn't hold the data itself — just points to where it's streamed from.\n",
    "        handle = Entrez.esearch(db=\"nucleotide\", term=species_name, retmax=1)\n",
    "\n",
    "        # .read() takes in handle pointers and returns a dictionary object\n",
    "        record = Entrez.read(handle)\n",
    "\n",
    "        # close connection, good practise\n",
    "        handle.close()\n",
    "\n",
    "        if not record[\"IdList\"]:\n",
    "            print(f\"No sequence found for {species_name}\")\n",
    "            return None\n",
    "\n",
    "        print(f'Keys : {list(record.keys())}\\n')\n",
    "        print(record.items())\n",
    "\n",
    "        # Fetch sequence using the first search result ID\n",
    "        seq_id = record[\"IdList\"][0]\n",
    "        handle = Entrez.efetch(db=\"nucleotide\", id=seq_id, rettype=\"fasta\", retmode=\"text\")\n",
    "        seq_record = SeqIO.read(handle, \"fasta-pearson\")\n",
    "        handle.close()\n",
    "\n",
    "        return seq_record.seq  # Return just the DNA sequence\n",
    "    except Exception as e:\n",
    "        print(f\"Error fetching sequence for {species_name}: {e}\")\n",
    "        return None\n",
    "\n",
    "# Test it with an example species\n",
    "sequence = fetch_sequence(\"Homo sapiens[Organism] AND mitochondrion[Filter]\")\n"
   ]
  },
  {
   "cell_type": "code",
   "execution_count": 12,
   "metadata": {},
   "outputs": [
    {
     "name": "stdout",
     "output_type": "stream",
     "text": [
      "TAT TCT CTG TTC TTT CAT GGG GAA GCA GAT TTG GGT ACC ACC CAA GTA TTG ACT CAT CCA TCA ACA ACC GCT ATG TAT TTC GTA CAT TAC TGC CAG CCA C"
     ]
    }
   ],
   "source": [
    "counter = 0\n",
    "\n",
    "for ch in sequence[:100]:\n",
    "    print(ch, end='')\n",
    "    counter += 1\n",
    "    if counter % 3 == 0:\n",
    "        print(' ', end='')"
   ]
  },
  {
   "cell_type": "code",
   "execution_count": null,
   "metadata": {},
   "outputs": [],
   "source": []
  }
 ],
 "metadata": {
  "kernelspec": {
   "display_name": ".venv",
   "language": "python",
   "name": "python3"
  },
  "language_info": {
   "codemirror_mode": {
    "name": "ipython",
    "version": 3
   },
   "file_extension": ".py",
   "mimetype": "text/x-python",
   "name": "python",
   "nbconvert_exporter": "python",
   "pygments_lexer": "ipython3",
   "version": "3.13.2"
  }
 },
 "nbformat": 4,
 "nbformat_minor": 2
}
