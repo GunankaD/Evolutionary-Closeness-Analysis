{
 "cells": [
  {
   "cell_type": "markdown",
   "metadata": {},
   "source": [
    "Import libraries"
   ]
  },
  {
   "cell_type": "code",
   "execution_count": 1,
   "metadata": {},
   "outputs": [],
   "source": [
    "from Bio import Entrez, SeqIO, Phylo\n",
    "from Bio.Align import PairwiseAligner\n",
    "\n",
    "# 1) Entrez: Fetch DNA sequences from NCBI.\n",
    "# 2) SeqIO: Read and parse sequences\n",
    "# 3) pairwise2: Align sequences and compute similarity scores\n",
    "# 4) Phylo: Build and visualize phylogenetic trees (later on, im not sure if we will be doing this)\n"
   ]
  },
  {
   "cell_type": "markdown",
   "metadata": {},
   "source": [
    "Fetching the Species nucleotides"
   ]
  },
  {
   "cell_type": "code",
   "execution_count": null,
   "metadata": {},
   "outputs": [],
   "source": [
    "# Required by NCBI to prevent spam\n",
    "Entrez.email = \"gunanka.is22@bmsce.ac.in\"\n",
    "\n",
    "# species name has to be a perfect scientific name\n",
    "def fetch_sequence(species_name):\n",
    "    \"\"\"Fetches the DNA sequence of a given species from NCBI.\"\"\"\n",
    "    try:\n",
    "        # Search for the species in NCBI nucleotide database\n",
    "        handle = Entrez.esearch(db=\"nucleotide\", term=species_name, retmax=1)\n",
    "        record = Entrez.read(handle)\n",
    "        handle.close()\n",
    "\n",
    "        if not record[\"IdList\"]:\n",
    "            print(f\"No sequence found for {species_name}\")\n",
    "            return None\n",
    "\n",
    "        # Fetch sequence using the first search result ID\n",
    "        seq_id = record[\"IdList\"][0]\n",
    "        handle = Entrez.efetch(db=\"nucleotide\", id=seq_id, rettype=\"fasta\", retmode=\"text\")\n",
    "        seq_record = SeqIO.read(handle, \"fasta\")\n",
    "        handle.close()\n",
    "\n",
    "        return seq_record.seq  # Return just the DNA sequence\n",
    "    except Exception as e:\n",
    "        print(f\"Error fetching sequence for {species_name}: {e}\")\n",
    "        return None\n",
    "\n",
    "# Test it with an example species\n",
    "sequence = fetch_sequence(\"Homo sapiens\")\n",
    "print(sequence[:100])  # Print first 100 bases for verification\n"
   ]
  },
  {
   "cell_type": "markdown",
   "metadata": {},
   "source": [
    "Function to return Scientific name for a given common name"
   ]
  },
  {
   "cell_type": "markdown",
   "metadata": {},
   "source": []
  }
 ],
 "metadata": {
  "kernelspec": {
   "display_name": ".venv",
   "language": "python",
   "name": "python3"
  },
  "language_info": {
   "codemirror_mode": {
    "name": "ipython",
    "version": 3
   },
   "file_extension": ".py",
   "mimetype": "text/x-python",
   "name": "python",
   "nbconvert_exporter": "python",
   "pygments_lexer": "ipython3",
   "version": "3.13.2"
  }
 },
 "nbformat": 4,
 "nbformat_minor": 2
}
